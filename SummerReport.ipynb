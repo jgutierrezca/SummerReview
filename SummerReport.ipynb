{
 "cells": [
  {
   "cell_type": "code",
   "execution_count": 1,
   "id": "0b78f689",
   "metadata": {},
   "outputs": [],
   "source": [
    "import pandas as pd\n",
    "import os"
   ]
  },
  {
   "cell_type": "code",
   "execution_count": 5,
   "id": "224a4674",
   "metadata": {},
   "outputs": [
    {
     "data": {
      "text/plain": [
       "['Course Enrollment History - Data from Dashboard.xlsx',\n",
       " 'Procedure to create Summer Report.docx',\n",
       " 'Todos.xlsx']"
      ]
     },
     "execution_count": 5,
     "metadata": {},
     "output_type": "execute_result"
    }
   ],
   "source": [
    "directory = r'C:\\Users\\jgutierrez125\\OneDrive - California State University Chico\\04 - Projects\\03 - Summer review\\2025'\n",
    "files = os.listdir(directory)\n",
    "files"
   ]
  },
  {
   "cell_type": "code",
   "execution_count": 29,
   "id": "bfef5eb1",
   "metadata": {},
   "outputs": [],
   "source": [
    "path = directory + '/Todos.xlsx'\n",
    "data = pd.read_excel(path)"
   ]
  },
  {
   "cell_type": "code",
   "execution_count": 30,
   "id": "e29eca9d",
   "metadata": {},
   "outputs": [],
   "source": [
    "data_filtered = data.dropna(subset=['Course Subject and Number'],ignore_index=True)"
   ]
  },
  {
   "cell_type": "code",
   "execution_count": 31,
   "id": "c9d16829",
   "metadata": {},
   "outputs": [
    {
     "name": "stderr",
     "output_type": "stream",
     "text": [
      "C:\\Users\\jgutierrez125\\AppData\\Local\\Temp\\ipykernel_27072\\2007952344.py:1: FutureWarning: Series.fillna with 'method' is deprecated and will raise in a future version. Use obj.ffill() or obj.bfill() instead.\n",
      "  data_filtered['College'] = data_filtered['College'].fillna(method = 'ffill')\n",
      "C:\\Users\\jgutierrez125\\AppData\\Local\\Temp\\ipykernel_27072\\2007952344.py:1: SettingWithCopyWarning: \n",
      "A value is trying to be set on a copy of a slice from a DataFrame.\n",
      "Try using .loc[row_indexer,col_indexer] = value instead\n",
      "\n",
      "See the caveats in the documentation: https://pandas.pydata.org/pandas-docs/stable/user_guide/indexing.html#returning-a-view-versus-a-copy\n",
      "  data_filtered['College'] = data_filtered['College'].fillna(method = 'ffill')\n"
     ]
    }
   ],
   "source": [
    "data_filtered['College'] = data_filtered['College'].fillna(method = 'ffill')"
   ]
  },
  {
   "cell_type": "code",
   "execution_count": 33,
   "id": "5e989ec2",
   "metadata": {},
   "outputs": [],
   "source": [
    "columns_to_keep = ['Term', 'Course Catalog Title', 'College', 'Course Subject and Number', 'Total Head Count Class Census']"
   ]
  },
  {
   "cell_type": "code",
   "execution_count": 34,
   "id": "3bf4b784",
   "metadata": {},
   "outputs": [],
   "source": [
    "new_df = data_filtered[columns_to_keep]"
   ]
  },
  {
   "cell_type": "code",
   "execution_count": 36,
   "id": "72fef068",
   "metadata": {},
   "outputs": [],
   "source": [
    "def classify_course_level(course_code):\n",
    "    try:\n",
    "        parts = course_code.split()\n",
    "        if len(parts) != 2:\n",
    "            return 'Unknown'\n",
    "        \n",
    "        number_part = parts[1]\n",
    "\n",
    "        first_digit = number_part[0]\n",
    "\n",
    "        if first_digit == '1' or first_digit == '2':\n",
    "            return 'Lower Division'\n",
    "        elif first_digit == '3' or first_digit == '4':\n",
    "            return 'Upper Division'\n",
    "        elif first_digit.isdigit() and int(first_digit) > 4:\n",
    "            return 'Graduate'\n",
    "        else:\n",
    "            'Unknown'\n",
    "\n",
    "    except:\n",
    "        return 'Unknown'"
   ]
  },
  {
   "cell_type": "code",
   "execution_count": 37,
   "id": "75b81f8f",
   "metadata": {},
   "outputs": [
    {
     "name": "stderr",
     "output_type": "stream",
     "text": [
      "C:\\Users\\jgutierrez125\\AppData\\Local\\Temp\\ipykernel_27072\\1856384469.py:1: SettingWithCopyWarning: \n",
      "A value is trying to be set on a copy of a slice from a DataFrame.\n",
      "Try using .loc[row_indexer,col_indexer] = value instead\n",
      "\n",
      "See the caveats in the documentation: https://pandas.pydata.org/pandas-docs/stable/user_guide/indexing.html#returning-a-view-versus-a-copy\n",
      "  new_df['Course Level'] = new_df['Course Subject and Number'].apply(classify_course_level)\n"
     ]
    }
   ],
   "source": [
    "new_df['Course Level'] = new_df['Course Subject and Number'].apply(classify_course_level)"
   ]
  },
  {
   "cell_type": "code",
   "execution_count": 41,
   "id": "e21edd5e",
   "metadata": {},
   "outputs": [],
   "source": [
    "new_df_filtered = new_df[new_df['Course Subject and Number'] != 'Total']\n",
    "new_df_filtered2 = new_df_filtered[new_df_filtered['Total Head Count Class Census'] != 0]\n",
    "new_df_sortered = new_df_filtered2.sort_values(by=['College', 'Course Level', 'Total Head Count Class Census'], ascending=[True, True, False])"
   ]
  },
  {
   "cell_type": "code",
   "execution_count": 42,
   "id": "b2efd054",
   "metadata": {},
   "outputs": [],
   "source": [
    "directory = r'C:\\Users\\jgutierrez125\\OneDrive - California State University Chico\\04 - Projects\\03 - Summer review\\2025'\n",
    "path = directory + '/Processed_Data.xlsx'\n",
    "new_df_sortered.to_excel(path)"
   ]
  },
  {
   "cell_type": "code",
   "execution_count": null,
   "id": "cffc2d0e",
   "metadata": {},
   "outputs": [],
   "source": []
  }
 ],
 "metadata": {
  "kernelspec": {
   "display_name": "base",
   "language": "python",
   "name": "python3"
  },
  "language_info": {
   "codemirror_mode": {
    "name": "ipython",
    "version": 3
   },
   "file_extension": ".py",
   "mimetype": "text/x-python",
   "name": "python",
   "nbconvert_exporter": "python",
   "pygments_lexer": "ipython3",
   "version": "3.11.7"
  }
 },
 "nbformat": 4,
 "nbformat_minor": 5
}
